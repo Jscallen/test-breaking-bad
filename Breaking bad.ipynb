{
 "cells": [
  {
   "cell_type": "code",
   "execution_count": 2,
   "id": "6aa919f3",
   "metadata": {},
   "outputs": [
    {
     "name": "stdout",
     "output_type": "stream",
     "text": [
      "Single quote: <Response [200]>\n"
     ]
    }
   ],
   "source": [
    "import requests\n",
    "\n",
    "response_single = requests.get(\"https://api.breakingbadquotes.xyz/v1/quotes\")\n",
    "print(\"Single quote:\", response_single)\n",
    "\n"
   ]
  },
  {
   "cell_type": "code",
   "execution_count": 3,
   "id": "7d60bd86",
   "metadata": {},
   "outputs": [
    {
     "data": {
      "text/plain": [
       "[{'quote': 'Everyone sounds like Meryl Streep with a gun to their head.',\n",
       "  'author': 'Mike Ehrmantraut'}]"
      ]
     },
     "execution_count": 3,
     "metadata": {},
     "output_type": "execute_result"
    }
   ],
   "source": [
    "response_single.json()"
   ]
  },
  {
   "cell_type": "code",
   "execution_count": 36,
   "id": "17e1bbfc",
   "metadata": {},
   "outputs": [
    {
     "name": "stdout",
     "output_type": "stream",
     "text": [
      "[{'quote': 'Free to cook anytime, anywhere.', 'author': 'Jesse Pinkman'}]\n",
      "[{'quote': 'Free to cook anytime, anywhere.', 'author': 'Jesse Pinkman'}]\n"
     ]
    }
   ],
   "source": [
    "response_five = requests.get(\"https://api.breakingbadquotes.xyz/v1/quotes\")\n",
    "\n",
    "yup = response_five.json()\n",
    "n = 2\n",
    "for j in range(n):\n",
    "    print(yup)"
   ]
  },
  {
   "cell_type": "code",
   "execution_count": 40,
   "id": "8c4b7717",
   "metadata": {},
   "outputs": [
    {
     "name": "stdout",
     "output_type": "stream",
     "text": [
      "[{'quote': 'Free to cook anytime, anywhere.', 'author': 'Jesse Pinkman'}]\n",
      "[{'quote': 'Free to cook anytime, anywhere.', 'author': 'Jesse Pinkman'}]\n",
      "[{'quote': 'Free to cook anytime, anywhere.', 'author': 'Jesse Pinkman'}]\n"
     ]
    }
   ],
   "source": [
    "quote_multiplier(3)"
   ]
  },
  {
   "cell_type": "code",
   "execution_count": 39,
   "id": "ac15f8b4",
   "metadata": {},
   "outputs": [],
   "source": [
    "def quote_multiplier(n):\n",
    "    for j in range(n):\n",
    "        print(yup)"
   ]
  }
 ],
 "metadata": {
  "kernelspec": {
   "display_name": "Python 3 (ipykernel)",
   "language": "python",
   "name": "python3"
  },
  "language_info": {
   "codemirror_mode": {
    "name": "ipython",
    "version": 3
   },
   "file_extension": ".py",
   "mimetype": "text/x-python",
   "name": "python",
   "nbconvert_exporter": "python",
   "pygments_lexer": "ipython3",
   "version": "3.10.6"
  }
 },
 "nbformat": 4,
 "nbformat_minor": 5
}
